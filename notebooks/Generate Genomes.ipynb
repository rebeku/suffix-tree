{
 "cells": [
  {
   "cell_type": "markdown",
   "metadata": {},
   "source": [
    "### Step 1: Set Parameters"
   ]
  },
  {
   "cell_type": "code",
   "execution_count": 1,
   "metadata": {},
   "outputs": [],
   "source": [
    "import numpy as np\n",
    "import pandas as pd"
   ]
  },
  {
   "cell_type": "code",
   "execution_count": 2,
   "metadata": {},
   "outputs": [],
   "source": [
    "N_GENOMES = 5\n",
    "GENOME_LEN = 100000\n",
    "\n",
    "N_GENES = 2000\n",
    "GENE_LEN = 100\n",
    "P_MUTATION = 0.2"
   ]
  },
  {
   "cell_type": "markdown",
   "metadata": {},
   "source": [
    "### Step 2: Simulate Genomes"
   ]
  },
  {
   "cell_type": "code",
   "execution_count": 3,
   "metadata": {},
   "outputs": [],
   "source": [
    "# For now, keep genomes as a string\n",
    "# This will make simulating the genes more convenient due to Numpy's indexing\n",
    "genomes = np.random.choice(['A', 'C', 'G', 'T'], (N_GENOMES,GENOME_LEN))"
   ]
  },
  {
   "cell_type": "markdown",
   "metadata": {},
   "source": [
    "### Step 3: Simulate Genes\n",
    "For each gene, save the text of the mutated gene, index of the source genome, the start index within the genome, and the number of mutations applied"
   ]
  },
  {
   "cell_type": "code",
   "execution_count": 4,
   "metadata": {},
   "outputs": [
    {
     "name": "stdout",
     "output_type": "stream",
     "text": [
      "   source_g  start_i\n",
      "0         0    91701\n",
      "1         2    13828\n",
      "2         2    26455\n",
      "3         3    39632\n",
      "4         0    42832\n"
     ]
    }
   ],
   "source": [
    "source_g = np.random.choice(N_GENOMES, N_GENES)\n",
    "start_i = np.random.choice(GENOME_LEN - GENE_LEN, N_GENES)\n",
    "\n",
    "genes = pd.DataFrame({\"source_g\": source_g, \"start_i\": start_i})\n",
    "print(genes.head())"
   ]
  },
  {
   "cell_type": "code",
   "execution_count": 5,
   "metadata": {},
   "outputs": [],
   "source": [
    "CHOICES = {\n",
    "    'A': ['C', 'G', 'T'],\n",
    "    'C': ['A', 'G', 'T'],\n",
    "    'G': ['A', 'C', 'T'],\n",
    "    'T': ['A', 'C', 'G'],\n",
    "}\n",
    "\n",
    "def mutate(source_g, start_i, genomes):\n",
    "    gene = (genomes[source_g, start_i:start_i + GENE_LEN]).copy()\n",
    "    n_mutations = np.random.binomial(GENE_LEN, P_MUTATION)\n",
    "    mutation_indices = np.random.choice(GENE_LEN, n_mutations)\n",
    "    for i in mutation_indices:\n",
    "        gene[i] = np.random.choice(CHOICES[gene[i]])\n",
    "\n",
    "    mutations = GENE_LEN - (genomes[source_g, start_i:start_i + GENE_LEN] == gene).sum()\n",
    "    \n",
    "    return \"\".join(gene), mutations\n",
    "    # return gene, mutations"
   ]
  },
  {
   "cell_type": "code",
   "execution_count": 6,
   "metadata": {},
   "outputs": [],
   "source": [
    "genes[\"raw_mutation_result\"] = genes.apply(lambda row: mutate(row[0], row[1], genomes), axis=1)\n",
    "genes[\"full_text\"] = genes[\"raw_mutation_result\"].apply(lambda x: x[0])\n",
    "genes[\"n_mutations\"] = genes[\"raw_mutation_result\"].apply(lambda x: x[1])\n",
    "genes.drop(\"raw_mutation_result\", axis=1, inplace=True)\n",
    "\n",
    "# Now that we're done simulating genes, join genome as a string\n",
    "genomes = np.apply_along_axis(lambda row: \"\".join(row),1,genomes)"
   ]
  },
  {
   "cell_type": "code",
   "execution_count": 7,
   "metadata": {},
   "outputs": [],
   "source": [
    "for i, genome in enumerate(genomes):\n",
    "    fname = \"../data/genome_{}_{}_{}_{}_{}_{}.txt\".format(N_GENOMES, GENOME_LEN, N_GENES, GENE_LEN, P_MUTATION, i)\n",
    "    with open(fname, \"w\") as f:\n",
    "        f.write(genome)\n",
    "    genes.source_g.replace(i, fname, inplace=True)"
   ]
  },
  {
   "cell_type": "code",
   "execution_count": 8,
   "metadata": {},
   "outputs": [],
   "source": [
    "genes.sort_values(\"source_g\", inplace=True)\n",
    "genes.to_csv(\"../data/genes_{}_{}_{}_{}_{}.csv\".format(N_GENOMES, GENOME_LEN, N_GENES, GENE_LEN, P_MUTATION), index=False, header=False)"
   ]
  },
  {
   "cell_type": "code",
   "execution_count": 9,
   "metadata": {},
   "outputs": [
    {
     "data": {
      "text/html": [
       "<div>\n",
       "<style>\n",
       "    .dataframe thead tr:only-child th {\n",
       "        text-align: right;\n",
       "    }\n",
       "\n",
       "    .dataframe thead th {\n",
       "        text-align: left;\n",
       "    }\n",
       "\n",
       "    .dataframe tbody tr th {\n",
       "        vertical-align: top;\n",
       "    }\n",
       "</style>\n",
       "<table border=\"1\" class=\"dataframe\">\n",
       "  <thead>\n",
       "    <tr style=\"text-align: right;\">\n",
       "      <th></th>\n",
       "      <th>source_g</th>\n",
       "      <th>start_i</th>\n",
       "      <th>full_text</th>\n",
       "      <th>n_mutations</th>\n",
       "    </tr>\n",
       "  </thead>\n",
       "  <tbody>\n",
       "    <tr>\n",
       "      <th>0</th>\n",
       "      <td>../data/genome_5_100000_2000_100_0.2_0.txt</td>\n",
       "      <td>91701</td>\n",
       "      <td>AGCCTTAGTCGAGACCGCATCGGAAGCAGTTGGTATCGTCCTAGGC...</td>\n",
       "      <td>16</td>\n",
       "    </tr>\n",
       "    <tr>\n",
       "      <th>523</th>\n",
       "      <td>../data/genome_5_100000_2000_100_0.2_0.txt</td>\n",
       "      <td>85187</td>\n",
       "      <td>CACAGGTCACTCCTAAATGACATACGTCTTTCCGGATGGCATTACT...</td>\n",
       "      <td>16</td>\n",
       "    </tr>\n",
       "    <tr>\n",
       "      <th>526</th>\n",
       "      <td>../data/genome_5_100000_2000_100_0.2_0.txt</td>\n",
       "      <td>19825</td>\n",
       "      <td>AATTCGAGATTAAACAGGGGTGTCTGCTGTACGGGAGGCTGGACTT...</td>\n",
       "      <td>17</td>\n",
       "    </tr>\n",
       "    <tr>\n",
       "      <th>528</th>\n",
       "      <td>../data/genome_5_100000_2000_100_0.2_0.txt</td>\n",
       "      <td>85885</td>\n",
       "      <td>CGGCGACACGTGCGATACCCGGTCCCTTTCCACCACCCGTTTATAA...</td>\n",
       "      <td>23</td>\n",
       "    </tr>\n",
       "    <tr>\n",
       "      <th>1526</th>\n",
       "      <td>../data/genome_5_100000_2000_100_0.2_0.txt</td>\n",
       "      <td>82297</td>\n",
       "      <td>AGCCGGATTGTGCTACGTCAAATGCAAAGCGAGAAAAACCGAGGCC...</td>\n",
       "      <td>13</td>\n",
       "    </tr>\n",
       "  </tbody>\n",
       "</table>\n",
       "</div>"
      ],
      "text/plain": [
       "                                        source_g  start_i  \\\n",
       "0     ../data/genome_5_100000_2000_100_0.2_0.txt    91701   \n",
       "523   ../data/genome_5_100000_2000_100_0.2_0.txt    85187   \n",
       "526   ../data/genome_5_100000_2000_100_0.2_0.txt    19825   \n",
       "528   ../data/genome_5_100000_2000_100_0.2_0.txt    85885   \n",
       "1526  ../data/genome_5_100000_2000_100_0.2_0.txt    82297   \n",
       "\n",
       "                                              full_text  n_mutations  \n",
       "0     AGCCTTAGTCGAGACCGCATCGGAAGCAGTTGGTATCGTCCTAGGC...           16  \n",
       "523   CACAGGTCACTCCTAAATGACATACGTCTTTCCGGATGGCATTACT...           16  \n",
       "526   AATTCGAGATTAAACAGGGGTGTCTGCTGTACGGGAGGCTGGACTT...           17  \n",
       "528   CGGCGACACGTGCGATACCCGGTCCCTTTCCACCACCCGTTTATAA...           23  \n",
       "1526  AGCCGGATTGTGCTACGTCAAATGCAAAGCGAGAAAAACCGAGGCC...           13  "
      ]
     },
     "execution_count": 9,
     "metadata": {},
     "output_type": "execute_result"
    }
   ],
   "source": [
    "genes.head()"
   ]
  },
  {
   "cell_type": "code",
   "execution_count": 10,
   "metadata": {},
   "outputs": [
    {
     "data": {
      "text/plain": [
       "../data/genome_5_100000_2000_100_0.2_0.txt    429\n",
       "../data/genome_5_100000_2000_100_0.2_4.txt    414\n",
       "../data/genome_5_100000_2000_100_0.2_1.txt    406\n",
       "../data/genome_5_100000_2000_100_0.2_3.txt    379\n",
       "../data/genome_5_100000_2000_100_0.2_2.txt    372\n",
       "Name: source_g, dtype: int64"
      ]
     },
     "execution_count": 10,
     "metadata": {},
     "output_type": "execute_result"
    }
   ],
   "source": [
    "genes.source_g.value_counts()"
   ]
  },
  {
   "cell_type": "markdown",
   "metadata": {},
   "source": [
    "### Step 4: Evaluate\n",
    "How often does the longest common substring align with the gene's location?"
   ]
  },
  {
   "cell_type": "code",
   "execution_count": 11,
   "metadata": {},
   "outputs": [],
   "source": [
    "from difflib import SequenceMatcher"
   ]
  },
  {
   "cell_type": "code",
   "execution_count": 14,
   "metadata": {},
   "outputs": [
    {
     "data": {
      "text/plain": [
       "91701"
      ]
     },
     "execution_count": 14,
     "metadata": {},
     "output_type": "execute_result"
    }
   ],
   "source": [
    "# return predicted start index of gene in genome\n",
    "matcher = SequenceMatcher(autojunk=False)\n",
    "\n",
    "\n",
    "def predict_location(gene, source_g):\n",
    "    matcher.set_seqs(gene, genomes[int(source_g[-5:-4])])\n",
    "    match = matcher.find_longest_match(0, GENE_LEN, 0, GENOME_LEN)\n",
    "    # print(f\"Length: {match.size}\\tgenome_i: {match.b}\\tgene_i: {match.a}\")\n",
    "    return match.b - match.a\n",
    "\n",
    "predict_location(genes.full_text[0], genes.source_g[0])"
   ]
  },
  {
   "cell_type": "code",
   "execution_count": 15,
   "metadata": {},
   "outputs": [],
   "source": [
    "predicted_location = genes.head(10).apply(lambda row: predict_location(row[\"full_text\"], row[\"source_g\"]), axis=1)"
   ]
  },
  {
   "cell_type": "code",
   "execution_count": 16,
   "metadata": {},
   "outputs": [
    {
     "data": {
      "text/plain": [
       "0        True\n",
       "523      True\n",
       "526     False\n",
       "528      True\n",
       "1526     True\n",
       "531      True\n",
       "1524     True\n",
       "536      True\n",
       "538      True\n",
       "540      True\n",
       "dtype: bool"
      ]
     },
     "execution_count": 16,
     "metadata": {},
     "output_type": "execute_result"
    }
   ],
   "source": [
    "predicted_location == genes.head(10).start_i"
   ]
  },
  {
   "cell_type": "code",
   "execution_count": 17,
   "metadata": {},
   "outputs": [
    {
     "data": {
      "text/html": [
       "<div>\n",
       "<style>\n",
       "    .dataframe thead tr:only-child th {\n",
       "        text-align: right;\n",
       "    }\n",
       "\n",
       "    .dataframe thead th {\n",
       "        text-align: left;\n",
       "    }\n",
       "\n",
       "    .dataframe tbody tr th {\n",
       "        vertical-align: top;\n",
       "    }\n",
       "</style>\n",
       "<table border=\"1\" class=\"dataframe\">\n",
       "  <thead>\n",
       "    <tr style=\"text-align: right;\">\n",
       "      <th></th>\n",
       "      <th>source_g</th>\n",
       "      <th>start_i</th>\n",
       "      <th>full_text</th>\n",
       "      <th>n_mutations</th>\n",
       "    </tr>\n",
       "  </thead>\n",
       "  <tbody>\n",
       "    <tr>\n",
       "      <th>0</th>\n",
       "      <td>../data/genome_5_100000_2000_100_0.2_0.txt</td>\n",
       "      <td>91701</td>\n",
       "      <td>AGCCTTAGTCGAGACCGCATCGGAAGCAGTTGGTATCGTCCTAGGC...</td>\n",
       "      <td>16</td>\n",
       "    </tr>\n",
       "    <tr>\n",
       "      <th>523</th>\n",
       "      <td>../data/genome_5_100000_2000_100_0.2_0.txt</td>\n",
       "      <td>85187</td>\n",
       "      <td>CACAGGTCACTCCTAAATGACATACGTCTTTCCGGATGGCATTACT...</td>\n",
       "      <td>16</td>\n",
       "    </tr>\n",
       "    <tr>\n",
       "      <th>526</th>\n",
       "      <td>../data/genome_5_100000_2000_100_0.2_0.txt</td>\n",
       "      <td>19825</td>\n",
       "      <td>AATTCGAGATTAAACAGGGGTGTCTGCTGTACGGGAGGCTGGACTT...</td>\n",
       "      <td>17</td>\n",
       "    </tr>\n",
       "    <tr>\n",
       "      <th>528</th>\n",
       "      <td>../data/genome_5_100000_2000_100_0.2_0.txt</td>\n",
       "      <td>85885</td>\n",
       "      <td>CGGCGACACGTGCGATACCCGGTCCCTTTCCACCACCCGTTTATAA...</td>\n",
       "      <td>23</td>\n",
       "    </tr>\n",
       "    <tr>\n",
       "      <th>1526</th>\n",
       "      <td>../data/genome_5_100000_2000_100_0.2_0.txt</td>\n",
       "      <td>82297</td>\n",
       "      <td>AGCCGGATTGTGCTACGTCAAATGCAAAGCGAGAAAAACCGAGGCC...</td>\n",
       "      <td>13</td>\n",
       "    </tr>\n",
       "    <tr>\n",
       "      <th>531</th>\n",
       "      <td>../data/genome_5_100000_2000_100_0.2_0.txt</td>\n",
       "      <td>27024</td>\n",
       "      <td>TATTCTTTCACCTGTAATATCGCAGGAGAGGACGTATGCATCCACG...</td>\n",
       "      <td>15</td>\n",
       "    </tr>\n",
       "    <tr>\n",
       "      <th>1524</th>\n",
       "      <td>../data/genome_5_100000_2000_100_0.2_0.txt</td>\n",
       "      <td>39795</td>\n",
       "      <td>ATACTCTTTGAGTAGATCCGTAACTGCTTTTCGTGCAATGGCACGG...</td>\n",
       "      <td>17</td>\n",
       "    </tr>\n",
       "    <tr>\n",
       "      <th>536</th>\n",
       "      <td>../data/genome_5_100000_2000_100_0.2_0.txt</td>\n",
       "      <td>82929</td>\n",
       "      <td>TTCACCAGCGCCCCACTCAGACAACGGATGGCGGTCGGCCCCCCAG...</td>\n",
       "      <td>19</td>\n",
       "    </tr>\n",
       "    <tr>\n",
       "      <th>538</th>\n",
       "      <td>../data/genome_5_100000_2000_100_0.2_0.txt</td>\n",
       "      <td>1703</td>\n",
       "      <td>CGCAGGATTGAAATGCTACCCGATCATACCTGTCCATGGATCTCCA...</td>\n",
       "      <td>15</td>\n",
       "    </tr>\n",
       "    <tr>\n",
       "      <th>540</th>\n",
       "      <td>../data/genome_5_100000_2000_100_0.2_0.txt</td>\n",
       "      <td>9761</td>\n",
       "      <td>ACCTGGTTTTAAACACTGTTGACCTTCGGTACACGTATGGACTAGT...</td>\n",
       "      <td>16</td>\n",
       "    </tr>\n",
       "  </tbody>\n",
       "</table>\n",
       "</div>"
      ],
      "text/plain": [
       "                                        source_g  start_i  \\\n",
       "0     ../data/genome_5_100000_2000_100_0.2_0.txt    91701   \n",
       "523   ../data/genome_5_100000_2000_100_0.2_0.txt    85187   \n",
       "526   ../data/genome_5_100000_2000_100_0.2_0.txt    19825   \n",
       "528   ../data/genome_5_100000_2000_100_0.2_0.txt    85885   \n",
       "1526  ../data/genome_5_100000_2000_100_0.2_0.txt    82297   \n",
       "531   ../data/genome_5_100000_2000_100_0.2_0.txt    27024   \n",
       "1524  ../data/genome_5_100000_2000_100_0.2_0.txt    39795   \n",
       "536   ../data/genome_5_100000_2000_100_0.2_0.txt    82929   \n",
       "538   ../data/genome_5_100000_2000_100_0.2_0.txt     1703   \n",
       "540   ../data/genome_5_100000_2000_100_0.2_0.txt     9761   \n",
       "\n",
       "                                              full_text  n_mutations  \n",
       "0     AGCCTTAGTCGAGACCGCATCGGAAGCAGTTGGTATCGTCCTAGGC...           16  \n",
       "523   CACAGGTCACTCCTAAATGACATACGTCTTTCCGGATGGCATTACT...           16  \n",
       "526   AATTCGAGATTAAACAGGGGTGTCTGCTGTACGGGAGGCTGGACTT...           17  \n",
       "528   CGGCGACACGTGCGATACCCGGTCCCTTTCCACCACCCGTTTATAA...           23  \n",
       "1526  AGCCGGATTGTGCTACGTCAAATGCAAAGCGAGAAAAACCGAGGCC...           13  \n",
       "531   TATTCTTTCACCTGTAATATCGCAGGAGAGGACGTATGCATCCACG...           15  \n",
       "1524  ATACTCTTTGAGTAGATCCGTAACTGCTTTTCGTGCAATGGCACGG...           17  \n",
       "536   TTCACCAGCGCCCCACTCAGACAACGGATGGCGGTCGGCCCCCCAG...           19  \n",
       "538   CGCAGGATTGAAATGCTACCCGATCATACCTGTCCATGGATCTCCA...           15  \n",
       "540   ACCTGGTTTTAAACACTGTTGACCTTCGGTACACGTATGGACTAGT...           16  "
      ]
     },
     "execution_count": 17,
     "metadata": {},
     "output_type": "execute_result"
    }
   ],
   "source": [
    "genes.head(10)"
   ]
  }
 ],
 "metadata": {
  "kernelspec": {
   "display_name": "Python 3",
   "language": "python",
   "name": "python3"
  },
  "language_info": {
   "codemirror_mode": {
    "name": "ipython",
    "version": 3
   },
   "file_extension": ".py",
   "mimetype": "text/x-python",
   "name": "python",
   "nbconvert_exporter": "python",
   "pygments_lexer": "ipython3",
   "version": "3.6.0"
  }
 },
 "nbformat": 4,
 "nbformat_minor": 4
}

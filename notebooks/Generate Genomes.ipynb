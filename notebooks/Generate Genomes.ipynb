{
 "cells": [
  {
   "cell_type": "markdown",
   "metadata": {},
   "source": [
    "### Step 1: Set Parameters"
   ]
  },
  {
   "cell_type": "code",
   "execution_count": 1,
   "metadata": {},
   "outputs": [],
   "source": [
    "import numpy as np\n",
    "import pandas as pd"
   ]
  },
  {
   "cell_type": "code",
   "execution_count": 2,
   "metadata": {},
   "outputs": [],
   "source": [
    "N_GENOMES = 5\n",
    "GENOME_LEN = 1000\n",
    "\n",
    "N_GENES = 20\n",
    "GENE_LEN = 100\n",
    "P_MUTATION = .03"
   ]
  },
  {
   "cell_type": "markdown",
   "metadata": {},
   "source": [
    "### Step 2: Simulate Genomes"
   ]
  },
  {
   "cell_type": "code",
   "execution_count": 3,
   "metadata": {},
   "outputs": [],
   "source": [
    "# For now, keep genomes as a string\n",
    "# This will make simulating the genes more convenient due to Numpy's indexing\n",
    "genomes = np.random.choice(['A', 'C', 'G', 'T'], (N_GENOMES,GENOME_LEN))"
   ]
  },
  {
   "cell_type": "markdown",
   "metadata": {},
   "source": [
    "### Step 3: Simulate Genes\n",
    "For each gene, save the text of the mutated gene, index of the source genome, the start index within the genome, and the number of mutations applied"
   ]
  },
  {
   "cell_type": "code",
   "execution_count": 4,
   "metadata": {},
   "outputs": [
    {
     "name": "stdout",
     "output_type": "stream",
     "text": [
      "   source_g  start_i\n",
      "0         3      598\n",
      "1         1      829\n",
      "2         3       57\n",
      "3         3      694\n",
      "4         3      660\n"
     ]
    }
   ],
   "source": [
    "source_g = np.random.choice(N_GENOMES, N_GENES)\n",
    "start_i = np.random.choice(GENOME_LEN - GENE_LEN, N_GENES)\n",
    "\n",
    "genes = pd.DataFrame({\"source_g\": source_g, \"start_i\": start_i})\n",
    "print(genes.head())"
   ]
  },
  {
   "cell_type": "code",
   "execution_count": 5,
   "metadata": {},
   "outputs": [],
   "source": [
    "CHOICES = {\n",
    "    'A': ['C', 'G', 'T'],\n",
    "    'C': ['A', 'G', 'T'],\n",
    "    'G': ['A', 'C', 'T'],\n",
    "    'T': ['A', 'C', 'G'],\n",
    "}\n",
    "\n",
    "def mutate(source_g, start_i, genomes):\n",
    "    gene = (genomes[source_g, start_i:start_i + GENE_LEN]).copy()\n",
    "    n_mutations = np.random.binomial(GENE_LEN, P_MUTATION)\n",
    "    mutation_indices = np.random.choice(GENE_LEN, n_mutations)\n",
    "    for i in mutation_indices:\n",
    "        gene[i] = np.random.choice(CHOICES[gene[i]])\n",
    "\n",
    "    mutations = GENE_LEN - (genomes[source_g, start_i:start_i + GENE_LEN] == gene).sum()\n",
    "    return \"\".join(gene), mutations\n",
    "    "
   ]
  },
  {
   "cell_type": "code",
   "execution_count": 6,
   "metadata": {},
   "outputs": [],
   "source": [
    "genes[\"raw_mutation_result\"] = genes.apply(lambda row: mutate(row[0], row[1], genomes), axis=1)\n",
    "genes[\"full_text\"] = genes[\"raw_mutation_result\"].apply(lambda x: x[0])\n",
    "genes[\"n_mutations\"] = genes[\"raw_mutation_result\"].apply(lambda x: x[1])\n",
    "genes.drop(\"raw_mutation_result\", axis=1, inplace=True)\n",
    "\n",
    "# Now that we're done simulating genes, join genome as a string\n",
    "genomes = np.apply_along_axis(lambda row: \"\".join(row),1,genomes)"
   ]
  },
  {
   "cell_type": "markdown",
   "metadata": {},
   "source": [
    "### Step 4: Evaluate\n",
    "How often does the longest common substring align with the gene's location?"
   ]
  },
  {
   "cell_type": "code",
   "execution_count": 7,
   "metadata": {},
   "outputs": [],
   "source": [
    "from difflib import SequenceMatcher\n",
    "\n",
    "str1 = 'GeeksforGeeks'\n",
    "str2 = 'GeeksQuiz'\n",
    "\n",
    "seqMatch = SequenceMatcher(None,str1,str2)"
   ]
  },
  {
   "cell_type": "code",
   "execution_count": 8,
   "metadata": {},
   "outputs": [
    {
     "data": {
      "text/plain": [
       "Match(a=0, b=0, size=5)"
      ]
     },
     "execution_count": 8,
     "metadata": {},
     "output_type": "execute_result"
    }
   ],
   "source": [
    "match = seqMatch.find_longest_match(0, len(str1), 0, len(str2))\n",
    "match"
   ]
  },
  {
   "cell_type": "code",
   "execution_count": 9,
   "metadata": {},
   "outputs": [
    {
     "data": {
      "text/plain": [
       "0"
      ]
     },
     "execution_count": 9,
     "metadata": {},
     "output_type": "execute_result"
    }
   ],
   "source": [
    "match.a"
   ]
  },
  {
   "cell_type": "code",
   "execution_count": 10,
   "metadata": {},
   "outputs": [
    {
     "data": {
      "text/plain": [
       "0"
      ]
     },
     "execution_count": 10,
     "metadata": {},
     "output_type": "execute_result"
    }
   ],
   "source": [
    "# return predicted start index of gene in genome\n",
    "matcher = SequenceMatcher()\n",
    "\n",
    "\n",
    "def predict_location(gene, source_g):\n",
    "    matcher.set_seqs(gene, genomes[source_g])\n",
    "    match = matcher.find_longest_match(0, GENE_LEN, 0, GENOME_LEN)\n",
    "    \n",
    "    return match.b - match.a\n",
    "\n",
    "predict_location(genes.full_text[0], genes.source_g[0])"
   ]
  },
  {
   "cell_type": "code",
   "execution_count": 13,
   "metadata": {},
   "outputs": [
    {
     "data": {
      "text/html": [
       "<div>\n",
       "<style>\n",
       "    .dataframe thead tr:only-child th {\n",
       "        text-align: right;\n",
       "    }\n",
       "\n",
       "    .dataframe thead th {\n",
       "        text-align: left;\n",
       "    }\n",
       "\n",
       "    .dataframe tbody tr th {\n",
       "        vertical-align: top;\n",
       "    }\n",
       "</style>\n",
       "<table border=\"1\" class=\"dataframe\">\n",
       "  <thead>\n",
       "    <tr style=\"text-align: right;\">\n",
       "      <th></th>\n",
       "      <th>source_g</th>\n",
       "      <th>start_i</th>\n",
       "      <th>full_text</th>\n",
       "      <th>n_mutations</th>\n",
       "    </tr>\n",
       "  </thead>\n",
       "  <tbody>\n",
       "    <tr>\n",
       "      <th>0</th>\n",
       "      <td>3</td>\n",
       "      <td>598</td>\n",
       "      <td>GAGGATCCCGGTAAATGCAGCCATTCCCACTGCCTCGAGCTATTCT...</td>\n",
       "      <td>2</td>\n",
       "    </tr>\n",
       "    <tr>\n",
       "      <th>1</th>\n",
       "      <td>1</td>\n",
       "      <td>829</td>\n",
       "      <td>AAAACAAACCACTACCGGGGGAATAAAGGTGCATCGAGCTTAAGCG...</td>\n",
       "      <td>1</td>\n",
       "    </tr>\n",
       "    <tr>\n",
       "      <th>2</th>\n",
       "      <td>3</td>\n",
       "      <td>57</td>\n",
       "      <td>CCTGAGGGCCACCGACCTTATAGATGAATGCCAACCGTGTATATAC...</td>\n",
       "      <td>3</td>\n",
       "    </tr>\n",
       "    <tr>\n",
       "      <th>3</th>\n",
       "      <td>3</td>\n",
       "      <td>694</td>\n",
       "      <td>CAGTGATTCCGAGGACACCACTCAGCGTCGCAGTTAGTATTTCTCG...</td>\n",
       "      <td>0</td>\n",
       "    </tr>\n",
       "    <tr>\n",
       "      <th>4</th>\n",
       "      <td>3</td>\n",
       "      <td>660</td>\n",
       "      <td>TAAATTCTGACTTGTCCGGGTAAGCCACCTCGTACATTGATTCCGA...</td>\n",
       "      <td>4</td>\n",
       "    </tr>\n",
       "  </tbody>\n",
       "</table>\n",
       "</div>"
      ],
      "text/plain": [
       "   source_g  start_i                                          full_text  \\\n",
       "0         3      598  GAGGATCCCGGTAAATGCAGCCATTCCCACTGCCTCGAGCTATTCT...   \n",
       "1         1      829  AAAACAAACCACTACCGGGGGAATAAAGGTGCATCGAGCTTAAGCG...   \n",
       "2         3       57  CCTGAGGGCCACCGACCTTATAGATGAATGCCAACCGTGTATATAC...   \n",
       "3         3      694  CAGTGATTCCGAGGACACCACTCAGCGTCGCAGTTAGTATTTCTCG...   \n",
       "4         3      660  TAAATTCTGACTTGTCCGGGTAAGCCACCTCGTACATTGATTCCGA...   \n",
       "\n",
       "   n_mutations  \n",
       "0            2  \n",
       "1            1  \n",
       "2            3  \n",
       "3            0  \n",
       "4            4  "
      ]
     },
     "execution_count": 13,
     "metadata": {},
     "output_type": "execute_result"
    }
   ],
   "source": [
    "genes.head()"
   ]
  },
  {
   "cell_type": "code",
   "execution_count": 14,
   "metadata": {},
   "outputs": [
    {
     "name": "stdout",
     "output_type": "stream",
     "text": [
      "Length: 0\tgenome_i: 0\tgene_i: 0\n"
     ]
    }
   ],
   "source": [
    "(gene, source_g) = (genes.full_text[0], genes.source_g[0])\n",
    "matcher.set_seqs(gene, genomes[source_g])\n",
    "match = matcher.find_longest_match(0, GENE_LEN, 0, GENOME_LEN)\n",
    "\n",
    "print(f\"Length: {match.size}\\tgenome_i: {match.b}\\tgene_i: {match.a}\")"
   ]
  },
  {
   "cell_type": "code",
   "execution_count": 16,
   "metadata": {},
   "outputs": [
    {
     "data": {
      "text/plain": [
       "'GAGGATCCCGGTAAATGCAGCCATTCCCACTGCCTCGAGCTATTCTGGTCTGGGACCATCAATAAATTCTGTCTTGTCCGTGTAAGCCACCTCGTACAGT'"
      ]
     },
     "execution_count": 16,
     "metadata": {},
     "output_type": "execute_result"
    }
   ],
   "source": [
    "matcher.a"
   ]
  },
  {
   "cell_type": "code",
   "execution_count": 17,
   "metadata": {},
   "outputs": [
    {
     "data": {
      "text/plain": [
       "'TTAAAGTCGGCGTGCAACAAAACTCAGAGGCCGAATATTGTTACAACTATGGTACCACCTGAGGGCCCCCGTCCTTATAGATGAATGCCAACCGTGTATATACCACACGATTGCAACGGCGCGCTTAAGCTCCAACTACTTAGTCTCTATAGAGGAGATGCTAGTGTCTAGTGTGGAGACTGCAGCCGGATCGATGGGGGCGATTGGTTGATGTCTACTGGCGCTCAAGTCGATCAGGCCTTTGGGGAGCACACAGATGTATGGTCCGGTTGATCAGAGCCTCATAAGACCCCGAATGTATTGTCCCGCATACTGCCTTTCGCCGTTCGAAAAGAACTGCGATTAGTGTTTATCGTAGCGGGTGCCGGAGGGCCTTAATTGGTTCCAGACGCTTTTTCTCAGTGATATAGAAGTTTAAGCGAAGAGGTATGTGTTCCGGGTCGTATACGGTCGGGGTTAAGAGCTTGGCACCATTTATAGCTAGCCAGTTTACGGATGCAGTCGGGCCGCGCTTATTGATACTTGCAAAACCGATCACTCGCTAATCATGTGGATAACCCATTATTGATCGGCCTATTTCTTTCAATGGGATCTGGTGGAGGATCCCGGTAAATGCAGCCAGTCCCACTGCCTCGAGCTATTCTGGTCTGGGACCATCAATAAATTCTGACTTGTCCGTGTAAGCCACCTCGTACAGTGATTCCGAGGACACCACTCAGCGTCGCAGTTAGTATTTCTCGGTGTATGACCTAGCTGTTCCTTGTCGCAACTACCAATGAGCCCCACAACCGGAGTCTTTCCCAGCTAATTCGAGCTCAACTACGCTCGAAAAGGATCACCCATTTACTGTTATACGTGCAGGAGCTACAGTGCCAATACATGCAGTAAAGAGTTTGGGGTTACGTGGGACCTCTGTCCCTCACCTAACTTTTTGGGTACTTGAGCCGCGGGGCTTGTCACGGACACCTAGGCCGAGCTCTCAATCCCAGGAGAAACAGGC'"
      ]
     },
     "execution_count": 17,
     "metadata": {},
     "output_type": "execute_result"
    }
   ],
   "source": [
    "matcher.b"
   ]
  },
  {
   "cell_type": "code",
   "execution_count": 18,
   "metadata": {},
   "outputs": [
    {
     "data": {
      "text/plain": [
       "Match(a=0, b=0, size=0)"
      ]
     },
     "execution_count": 18,
     "metadata": {},
     "output_type": "execute_result"
    }
   ],
   "source": [
    "matcher.find_longest_match(0,7,0,7)"
   ]
  },
  {
   "cell_type": "code",
   "execution_count": 56,
   "metadata": {},
   "outputs": [
    {
     "data": {
      "text/plain": [
       "Match(a=0, b=0, size=0)"
      ]
     },
     "execution_count": 56,
     "metadata": {},
     "output_type": "execute_result"
    }
   ],
   "source": [
    "#. matcher.set_seqs(\"GAGGATCCCGGTAAATGCAGCCATTCCCACTGCCTCGAGCTATTCTGGTCTGGGACCATCAATAAATTCTGTCTTGTCCGTGTAAGCCACCTCGTACAGT\", \"TTAAAGTCGGCGTGAGGATCCC\")\n",
    "matcher.set_seqs(str(gene), str(genomes[source_g])[200:400])\n",
    "matcher.find_longest_match(0,len(matcher.a),0,len(matcher.b))"
   ]
  },
  {
   "cell_type": "code",
   "execution_count": 45,
   "metadata": {},
   "outputs": [
    {
     "data": {
      "text/plain": [
       "'TTAAAGTCGGCGTGCAACAAAACTCAGAGGCCGAATATTGTTACAACTATGGTACCACCTGAGGGCCCCCGTCCTTATAGATGAATGCCAACCGTGTATATACCACACGATTGCAACGGCGCGCTTAAGCTCCAACTACTTAGTCTCTATAGAGGAGATGCTAGTGTCTAGTGTGGAGACTGCAGCCGGATCGATGGGGGCGATTGGTTGATGTCTACTGGCGCTCAAGTCGATCAGGCCTTTGGGGAGCACACAGATGTATGGTCCGGTTGATCAGAGCCTCATAAGACCCCGAATGTATTGTCCCGCATACTGCCTTTCGCCGTTCGAAAAGAACTGCGATTAGTGTTTATCGTAGCGGGTGCCGGAGGGCCTTAATTGGTTCCAGACGCTTTTTCTCAGTGATATAGAAGTTTAAGCGAAGAGGTATGTGTTCCGGGTCGTATACGGTCGGGGTTAAGAGCTTGGCACCATTTATAGCTAGCCAGTTTACGGATGCAGTCGGGCCGCGCTTATTGATACTTGCAAAACCGATCACTCGCTAATCATGTGGATAACCCATTATTGATCGGCCTATTTCTTTCAATGGGATCTGGTGGAGGATCCCGGTAAATGCAGCCAGTCCCACTGCCTCGAGCTATTCTGGTCTGGGACCATCAATAAATTCTGACTTGTCCGTGTAAGCCACCTCGTACAGTGATTCCGAGGACACCACTCAGCGTCGCAGTTAGTATTTCTCGGTGTATGACCTAGCTGTTCCTTGTCGCAACTACCAATGAGCCCCACAACCGGAGTCTTTCCCAGCTAATTCGAGCTCAACTACGCTCGAAAAGGATCACCCATTTACTGTTATACGTGCAGGAGCTACAGTGCCAATACATGCAGTAAAGAGTTTGGGGTTACGTGGGACCTCTGTCCCTCACCTAACTTTTTGGGTACTTGAGCCGCGGGGCTTGTCACGGACACCTAGGCCGAGCTCTCAATCCCAGGAGAAACAGGC'"
      ]
     },
     "execution_count": 45,
     "metadata": {},
     "output_type": "execute_result"
    }
   ],
   "source": [
    "matcher.b"
   ]
  },
  {
   "cell_type": "code",
   "execution_count": 57,
   "metadata": {},
   "outputs": [
    {
     "data": {
      "text/plain": [
       "array('GAGGATCCCGGTAAATGCAGCCATTCCCACTGCCTCGAGCTATTCTGGTCTGGGACCATCAATAAATTCTGTCTTGTCCGTGTAAGCCACCTCGTACAGT',\n",
       "      dtype='<U100')"
      ]
     },
     "execution_count": 57,
     "metadata": {},
     "output_type": "execute_result"
    }
   ],
   "source": [
    "np.array(matcher.a.split)"
   ]
  },
  {
   "cell_type": "code",
   "execution_count": 8,
   "metadata": {},
   "outputs": [
    {
     "data": {
      "text/plain": [
       "(4, 1, 1)"
      ]
     },
     "execution_count": 8,
     "metadata": {},
     "output_type": "execute_result"
    }
   ],
   "source": [
    "# Python code for a dynamic programming solution to the longest common substring\n",
    "# taken from Geeks for Geeks\n",
    "# https://www.geeksforgeeks.org/longest-common-substring-dp-29/\n",
    "\n",
    "from functools import lru_cache\n",
    "from operator import itemgetter\n",
    " \n",
    "def longest_common_substring(x: str, y: str) -> (int, int, int):\n",
    "     \n",
    "    # function to find the longest common substring\n",
    " \n",
    "    # Memorizing with maximum size of the memory as 1\n",
    "    @lru_cache(maxsize=1) \n",
    "     \n",
    "    # function to find the longest common prefix\n",
    "    def longest_common_prefix(i: int, j: int) -> int:\n",
    "       \n",
    "        if 0 <= i < len(x) and 0 <= j < len(y) and x[i] == y[j]:\n",
    "            return 1 + longest_common_prefix(i + 1, j + 1)\n",
    "        else:\n",
    "            return 0\n",
    " \n",
    "    # digonally computing the subproplems\n",
    "    # to decrease memory dependency\n",
    "    def digonal_computation():\n",
    "         \n",
    "        # upper right trianle of the 2D array\n",
    "        for k in range(len(x)):       \n",
    "            yield from ((longest_common_prefix(i, j), i, j)\n",
    "                        for i, j in zip(range(k, -1, -1),\n",
    "                                    range(len(y) - 1, -1, -1)))\n",
    "         \n",
    "        # lower left triangle of the 2D array\n",
    "        for k in range(len(y)):       \n",
    "            yield from ((longest_common_prefix(i, j), i, j)\n",
    "                        for i, j in zip(range(k, -1, -1),\n",
    "                                    range(len(x) - 1, -1, -1)))\n",
    " \n",
    "    # returning the maximum of all the subproblems\n",
    "    return max(digonal_computation(), key=itemgetter(0), default=(0, 0, 0))\n",
    "\n",
    "\n",
    "longest_common_substring(\"Hello\", \"jello\")"
   ]
  }
 ],
 "metadata": {
  "kernelspec": {
   "display_name": "Python 3",
   "language": "python",
   "name": "python3"
  },
  "language_info": {
   "codemirror_mode": {
    "name": "ipython",
    "version": 3
   },
   "file_extension": ".py",
   "mimetype": "text/x-python",
   "name": "python",
   "nbconvert_exporter": "python",
   "pygments_lexer": "ipython3",
   "version": "3.6.0"
  }
 },
 "nbformat": 4,
 "nbformat_minor": 4
}

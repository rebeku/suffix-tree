{
 "cells": [
  {
   "cell_type": "markdown",
   "metadata": {},
   "source": [
    "### Step 1: Set Parameters"
   ]
  },
  {
   "cell_type": "code",
   "execution_count": 1,
   "metadata": {},
   "outputs": [],
   "source": [
    "import numpy as np\n",
    "import pandas as pd"
   ]
  },
  {
   "cell_type": "code",
   "execution_count": 2,
   "metadata": {},
   "outputs": [],
   "source": [
    "N_GENOMES = 5\n",
    "# GENOME_LEN = 100000\n",
    "GENOME_LEN = 10000\n",
    "\n",
    "N_GENES = 100\n",
    "GENE_LEN = 500\n",
    "P_MUTATION = 0.1"
   ]
  },
  {
   "cell_type": "markdown",
   "metadata": {},
   "source": [
    "### Step 2: Simulate Genomes"
   ]
  },
  {
   "cell_type": "code",
   "execution_count": 3,
   "metadata": {},
   "outputs": [],
   "source": [
    "# For now, keep genomes as a string\n",
    "# This will make simulating the genes more convenient due to Numpy's indexing\n",
    "genomes = np.random.choice(['A', 'C', 'G', 'T'], (N_GENOMES,GENOME_LEN))"
   ]
  },
  {
   "cell_type": "markdown",
   "metadata": {},
   "source": [
    "### Step 3: Simulate Genes\n",
    "For each gene, save the text of the mutated gene, index of the source genome, the start index within the genome, and the number of mutations applied"
   ]
  },
  {
   "cell_type": "code",
   "execution_count": 4,
   "metadata": {},
   "outputs": [
    {
     "name": "stdout",
     "output_type": "stream",
     "text": [
      "   source_g  start_i\n",
      "0         3     8143\n",
      "1         0     8408\n",
      "2         4     6007\n",
      "3         1     4748\n",
      "4         1     6544\n"
     ]
    }
   ],
   "source": [
    "source_g = np.random.choice(N_GENOMES, N_GENES)\n",
    "start_i = np.random.choice(GENOME_LEN - GENE_LEN, N_GENES)\n",
    "\n",
    "genes = pd.DataFrame({\"source_g\": source_g, \"start_i\": start_i})\n",
    "print(genes.head())"
   ]
  },
  {
   "cell_type": "code",
   "execution_count": 5,
   "metadata": {},
   "outputs": [],
   "source": [
    "CHOICES = {\n",
    "    'A': ['C', 'G', 'T'],\n",
    "    'C': ['A', 'G', 'T'],\n",
    "    'G': ['A', 'C', 'T'],\n",
    "    'T': ['A', 'C', 'G'],\n",
    "}\n",
    "\n",
    "def mutate(source_g, start_i, genomes):\n",
    "    gene = (genomes[source_g, start_i:start_i + GENE_LEN]).copy()\n",
    "    n_mutations = np.random.binomial(GENE_LEN, P_MUTATION)\n",
    "    mutation_indices = np.random.choice(GENE_LEN, n_mutations)\n",
    "    for i in mutation_indices:\n",
    "        gene[i] = np.random.choice(CHOICES[gene[i]])\n",
    "\n",
    "    mutations = GENE_LEN - (genomes[source_g, start_i:start_i + GENE_LEN] == gene).sum()\n",
    "    \n",
    "    return \"\".join(gene), mutations\n",
    "    # return gene, mutations"
   ]
  },
  {
   "cell_type": "code",
   "execution_count": 6,
   "metadata": {},
   "outputs": [],
   "source": [
    "genes[\"raw_mutation_result\"] = genes.apply(lambda row: mutate(row[0], row[1], genomes), axis=1)\n",
    "genes[\"full_text\"] = genes[\"raw_mutation_result\"].apply(lambda x: x[0])\n",
    "genes[\"n_mutations\"] = genes[\"raw_mutation_result\"].apply(lambda x: x[1])\n",
    "genes.drop(\"raw_mutation_result\", axis=1, inplace=True)\n",
    "\n",
    "# Now that we're done simulating genes, join genome as a string\n",
    "genomes = np.apply_along_axis(lambda row: \"\".join(row),1,genomes)"
   ]
  },
  {
   "cell_type": "code",
   "execution_count": 33,
   "metadata": {},
   "outputs": [],
   "source": [
    "for i, genome in enumerate(genomes):\n",
    "    fname = \"../data/genome_{}_{}_{}_{}_{}_{}.txt\".format(N_GENOMES, GENOME_LEN, N_GENES, GENE_LEN, P_MUTATION, i)\n",
    "    with open(fname, \"w\") as f:\n",
    "        f.write(genome)\n",
    "    genes.source_g.replace(i, fname, inplace=True)"
   ]
  },
  {
   "cell_type": "code",
   "execution_count": 34,
   "metadata": {},
   "outputs": [],
   "source": [
    "genes.sort_values(\"source_g\", inplace=True)\n",
    "genes.to_csv(\"../data/genes_{}_{}_{}_{}_{}.csv\".format(N_GENOMES, GENOME_LEN, N_GENES, GENE_LEN, P_MUTATION), index=False, header=False)"
   ]
  },
  {
   "cell_type": "code",
   "execution_count": 35,
   "metadata": {},
   "outputs": [
    {
     "data": {
      "text/html": [
       "<div>\n",
       "<style>\n",
       "    .dataframe thead tr:only-child th {\n",
       "        text-align: right;\n",
       "    }\n",
       "\n",
       "    .dataframe thead th {\n",
       "        text-align: left;\n",
       "    }\n",
       "\n",
       "    .dataframe tbody tr th {\n",
       "        vertical-align: top;\n",
       "    }\n",
       "</style>\n",
       "<table border=\"1\" class=\"dataframe\">\n",
       "  <thead>\n",
       "    <tr style=\"text-align: right;\">\n",
       "      <th></th>\n",
       "      <th>source_g</th>\n",
       "      <th>start_i</th>\n",
       "      <th>full_text</th>\n",
       "      <th>n_mutations</th>\n",
       "    </tr>\n",
       "  </thead>\n",
       "  <tbody>\n",
       "    <tr>\n",
       "      <th>35</th>\n",
       "      <td>../data/genome_5_10000_100_500_0.1_0.txt</td>\n",
       "      <td>1228</td>\n",
       "      <td>AACGGCAAAGACAGTCCGTAATTAGGAATCTCAGTGGAAATCACGC...</td>\n",
       "      <td>50</td>\n",
       "    </tr>\n",
       "    <tr>\n",
       "      <th>48</th>\n",
       "      <td>../data/genome_5_10000_100_500_0.1_0.txt</td>\n",
       "      <td>9058</td>\n",
       "      <td>CACCCCCCATGGCCTGACTAAGCGCTTGGAGTGTGCAGACGGGATG...</td>\n",
       "      <td>48</td>\n",
       "    </tr>\n",
       "    <tr>\n",
       "      <th>56</th>\n",
       "      <td>../data/genome_5_10000_100_500_0.1_0.txt</td>\n",
       "      <td>9003</td>\n",
       "      <td>TGAATTGTGCTTCTTTACGGATTACGATTAGCATTCACGAACGATG...</td>\n",
       "      <td>45</td>\n",
       "    </tr>\n",
       "    <tr>\n",
       "      <th>52</th>\n",
       "      <td>../data/genome_5_10000_100_500_0.1_0.txt</td>\n",
       "      <td>4630</td>\n",
       "      <td>AATTCCTTGTACATAAGGGTTATCTCCTCCACCTACACTGGTGGAT...</td>\n",
       "      <td>45</td>\n",
       "    </tr>\n",
       "    <tr>\n",
       "      <th>20</th>\n",
       "      <td>../data/genome_5_10000_100_500_0.1_0.txt</td>\n",
       "      <td>3364</td>\n",
       "      <td>GCACCTTATAGCCAACACTCCGTCATGGATTTAGACTTACGGACTC...</td>\n",
       "      <td>54</td>\n",
       "    </tr>\n",
       "  </tbody>\n",
       "</table>\n",
       "</div>"
      ],
      "text/plain": [
       "                                    source_g  start_i  \\\n",
       "35  ../data/genome_5_10000_100_500_0.1_0.txt     1228   \n",
       "48  ../data/genome_5_10000_100_500_0.1_0.txt     9058   \n",
       "56  ../data/genome_5_10000_100_500_0.1_0.txt     9003   \n",
       "52  ../data/genome_5_10000_100_500_0.1_0.txt     4630   \n",
       "20  ../data/genome_5_10000_100_500_0.1_0.txt     3364   \n",
       "\n",
       "                                            full_text  n_mutations  \n",
       "35  AACGGCAAAGACAGTCCGTAATTAGGAATCTCAGTGGAAATCACGC...           50  \n",
       "48  CACCCCCCATGGCCTGACTAAGCGCTTGGAGTGTGCAGACGGGATG...           48  \n",
       "56  TGAATTGTGCTTCTTTACGGATTACGATTAGCATTCACGAACGATG...           45  \n",
       "52  AATTCCTTGTACATAAGGGTTATCTCCTCCACCTACACTGGTGGAT...           45  \n",
       "20  GCACCTTATAGCCAACACTCCGTCATGGATTTAGACTTACGGACTC...           54  "
      ]
     },
     "execution_count": 35,
     "metadata": {},
     "output_type": "execute_result"
    }
   ],
   "source": [
    "genes.head()"
   ]
  },
  {
   "cell_type": "code",
   "execution_count": 10,
   "metadata": {},
   "outputs": [
    {
     "data": {
      "text/plain": [
       "0    25\n",
       "2    23\n",
       "3    19\n",
       "1    19\n",
       "4    14\n",
       "Name: source_g, dtype: int64"
      ]
     },
     "execution_count": 10,
     "metadata": {},
     "output_type": "execute_result"
    }
   ],
   "source": [
    "genes.source_g.value_counts()"
   ]
  },
  {
   "cell_type": "markdown",
   "metadata": {},
   "source": [
    "### Step 4: Evaluate\n",
    "How often does the longest common substring align with the gene's location?"
   ]
  },
  {
   "cell_type": "code",
   "execution_count": 11,
   "metadata": {},
   "outputs": [],
   "source": [
    "from difflib import SequenceMatcher"
   ]
  },
  {
   "cell_type": "code",
   "execution_count": 12,
   "metadata": {},
   "outputs": [
    {
     "data": {
      "text/plain": [
       "8143"
      ]
     },
     "execution_count": 12,
     "metadata": {},
     "output_type": "execute_result"
    }
   ],
   "source": [
    "# return predicted start index of gene in genome\n",
    "matcher = SequenceMatcher(autojunk=False)\n",
    "\n",
    "\n",
    "def predict_location(gene, source_g):\n",
    "    matcher.set_seqs(gene, genomes[source_g])\n",
    "    match = matcher.find_longest_match(0, GENE_LEN, 0, GENOME_LEN)\n",
    "    # print(f\"Length: {match.size}\\tgenome_i: {match.b}\\tgene_i: {match.a}\")\n",
    "    return match.b - match.a\n",
    "\n",
    "predict_location(genes.full_text[0], genes.source_g[0])"
   ]
  },
  {
   "cell_type": "code",
   "execution_count": 13,
   "metadata": {},
   "outputs": [],
   "source": [
    "predicted_location = genes.head(10).apply(lambda row: predict_location(row[\"full_text\"], row[\"source_g\"]), axis=1)"
   ]
  },
  {
   "cell_type": "code",
   "execution_count": 14,
   "metadata": {},
   "outputs": [
    {
     "data": {
      "text/plain": [
       "35    True\n",
       "21    True\n",
       "22    True\n",
       "32    True\n",
       "72    True\n",
       "43    True\n",
       "48    True\n",
       "79    True\n",
       "20    True\n",
       "52    True\n",
       "dtype: bool"
      ]
     },
     "execution_count": 14,
     "metadata": {},
     "output_type": "execute_result"
    }
   ],
   "source": [
    "predicted_location == genes.head(10).start_i"
   ]
  },
  {
   "cell_type": "code",
   "execution_count": 15,
   "metadata": {},
   "outputs": [
    {
     "data": {
      "text/html": [
       "<div>\n",
       "<style>\n",
       "    .dataframe thead tr:only-child th {\n",
       "        text-align: right;\n",
       "    }\n",
       "\n",
       "    .dataframe thead th {\n",
       "        text-align: left;\n",
       "    }\n",
       "\n",
       "    .dataframe tbody tr th {\n",
       "        vertical-align: top;\n",
       "    }\n",
       "</style>\n",
       "<table border=\"1\" class=\"dataframe\">\n",
       "  <thead>\n",
       "    <tr style=\"text-align: right;\">\n",
       "      <th></th>\n",
       "      <th>source_g</th>\n",
       "      <th>start_i</th>\n",
       "      <th>full_text</th>\n",
       "      <th>n_mutations</th>\n",
       "    </tr>\n",
       "  </thead>\n",
       "  <tbody>\n",
       "    <tr>\n",
       "      <th>35</th>\n",
       "      <td>0</td>\n",
       "      <td>1228</td>\n",
       "      <td>AACGGCAAAGACAGTCCGTAATTAGGAATCTCAGTGGAAATCACGC...</td>\n",
       "      <td>50</td>\n",
       "    </tr>\n",
       "    <tr>\n",
       "      <th>21</th>\n",
       "      <td>0</td>\n",
       "      <td>5896</td>\n",
       "      <td>CCACGAAATATTGACCCTGCAAGTCAATTTCTGATACGTCGCCGTA...</td>\n",
       "      <td>42</td>\n",
       "    </tr>\n",
       "    <tr>\n",
       "      <th>22</th>\n",
       "      <td>0</td>\n",
       "      <td>8262</td>\n",
       "      <td>TTAGTGCATGTTTGGAACGCGAGTGGAGATCCTTTTGGTCCTCGAC...</td>\n",
       "      <td>41</td>\n",
       "    </tr>\n",
       "    <tr>\n",
       "      <th>32</th>\n",
       "      <td>0</td>\n",
       "      <td>4378</td>\n",
       "      <td>ATCCAGAGGCGTGTTCGTTGAGTACGTCTTTGGGTCGCGCCAGTGG...</td>\n",
       "      <td>48</td>\n",
       "    </tr>\n",
       "    <tr>\n",
       "      <th>72</th>\n",
       "      <td>0</td>\n",
       "      <td>6391</td>\n",
       "      <td>CATGTGTCTAAGTTGTACTGCGGCAAACACGGCCGTCGAGGCCATG...</td>\n",
       "      <td>43</td>\n",
       "    </tr>\n",
       "    <tr>\n",
       "      <th>43</th>\n",
       "      <td>0</td>\n",
       "      <td>3287</td>\n",
       "      <td>CCCTCTTACAAGGCCCATAACCGAGGGTGCAACATCTGCCTTGAGA...</td>\n",
       "      <td>38</td>\n",
       "    </tr>\n",
       "    <tr>\n",
       "      <th>48</th>\n",
       "      <td>0</td>\n",
       "      <td>9058</td>\n",
       "      <td>CACCCCCCATGGCCTGACTAAGCGCTTGGAGTGTGCAGACGGGATG...</td>\n",
       "      <td>48</td>\n",
       "    </tr>\n",
       "    <tr>\n",
       "      <th>79</th>\n",
       "      <td>0</td>\n",
       "      <td>8932</td>\n",
       "      <td>GAAACGTCGACAACGGGCAACCTAAGATCTGACCGATTTTTAAGGC...</td>\n",
       "      <td>42</td>\n",
       "    </tr>\n",
       "    <tr>\n",
       "      <th>20</th>\n",
       "      <td>0</td>\n",
       "      <td>3364</td>\n",
       "      <td>GCACCTTATAGCCAACACTCCGTCATGGATTTAGACTTACGGACTC...</td>\n",
       "      <td>54</td>\n",
       "    </tr>\n",
       "    <tr>\n",
       "      <th>52</th>\n",
       "      <td>0</td>\n",
       "      <td>4630</td>\n",
       "      <td>AATTCCTTGTACATAAGGGTTATCTCCTCCACCTACACTGGTGGAT...</td>\n",
       "      <td>45</td>\n",
       "    </tr>\n",
       "  </tbody>\n",
       "</table>\n",
       "</div>"
      ],
      "text/plain": [
       "    source_g  start_i                                          full_text  \\\n",
       "35         0     1228  AACGGCAAAGACAGTCCGTAATTAGGAATCTCAGTGGAAATCACGC...   \n",
       "21         0     5896  CCACGAAATATTGACCCTGCAAGTCAATTTCTGATACGTCGCCGTA...   \n",
       "22         0     8262  TTAGTGCATGTTTGGAACGCGAGTGGAGATCCTTTTGGTCCTCGAC...   \n",
       "32         0     4378  ATCCAGAGGCGTGTTCGTTGAGTACGTCTTTGGGTCGCGCCAGTGG...   \n",
       "72         0     6391  CATGTGTCTAAGTTGTACTGCGGCAAACACGGCCGTCGAGGCCATG...   \n",
       "43         0     3287  CCCTCTTACAAGGCCCATAACCGAGGGTGCAACATCTGCCTTGAGA...   \n",
       "48         0     9058  CACCCCCCATGGCCTGACTAAGCGCTTGGAGTGTGCAGACGGGATG...   \n",
       "79         0     8932  GAAACGTCGACAACGGGCAACCTAAGATCTGACCGATTTTTAAGGC...   \n",
       "20         0     3364  GCACCTTATAGCCAACACTCCGTCATGGATTTAGACTTACGGACTC...   \n",
       "52         0     4630  AATTCCTTGTACATAAGGGTTATCTCCTCCACCTACACTGGTGGAT...   \n",
       "\n",
       "    n_mutations  \n",
       "35           50  \n",
       "21           42  \n",
       "22           41  \n",
       "32           48  \n",
       "72           43  \n",
       "43           38  \n",
       "48           48  \n",
       "79           42  \n",
       "20           54  \n",
       "52           45  "
      ]
     },
     "execution_count": 15,
     "metadata": {},
     "output_type": "execute_result"
    }
   ],
   "source": [
    "genes.head(10)"
   ]
  }
 ],
 "metadata": {
  "kernelspec": {
   "display_name": "Python 3",
   "language": "python",
   "name": "python3"
  },
  "language_info": {
   "codemirror_mode": {
    "name": "ipython",
    "version": 3
   },
   "file_extension": ".py",
   "mimetype": "text/x-python",
   "name": "python",
   "nbconvert_exporter": "python",
   "pygments_lexer": "ipython3",
   "version": "3.6.0"
  }
 },
 "nbformat": 4,
 "nbformat_minor": 4
}

{
 "cells": [
  {
   "cell_type": "markdown",
   "metadata": {},
   "source": [
    "### Step 1: Set Parameters"
   ]
  },
  {
   "cell_type": "code",
   "execution_count": 1,
   "metadata": {},
   "outputs": [],
   "source": [
    "import numpy as np\n",
    "import pandas as pd"
   ]
  },
  {
   "cell_type": "code",
   "execution_count": 2,
   "metadata": {},
   "outputs": [],
   "source": [
    "N_GENOMES = 5\n",
    "GENOME_LEN = 500000\n",
    "\n",
    "N_GENES = 100\n",
    "GENE_LEN = 500\n",
    "P_MUTATION = .07"
   ]
  },
  {
   "cell_type": "markdown",
   "metadata": {},
   "source": [
    "### Step 2: Simulate Genomes"
   ]
  },
  {
   "cell_type": "code",
   "execution_count": 3,
   "metadata": {},
   "outputs": [],
   "source": [
    "# For now, keep genomes as a string\n",
    "# This will make simulating the genes more convenient due to Numpy's indexing\n",
    "genomes = np.random.choice(['A', 'C', 'G', 'T'], (N_GENOMES,GENOME_LEN))"
   ]
  },
  {
   "cell_type": "markdown",
   "metadata": {},
   "source": [
    "### Step 3: Simulate Genes\n",
    "For each gene, save the text of the mutated gene, index of the source genome, the start index within the genome, and the number of mutations applied"
   ]
  },
  {
   "cell_type": "code",
   "execution_count": 4,
   "metadata": {},
   "outputs": [
    {
     "name": "stdout",
     "output_type": "stream",
     "text": [
      "   source_g  start_i\n",
      "0         0   182538\n",
      "1         3   259304\n",
      "2         0   101562\n",
      "3         0    60663\n",
      "4         4   204459\n"
     ]
    }
   ],
   "source": [
    "source_g = np.random.choice(N_GENOMES, N_GENES)\n",
    "start_i = np.random.choice(GENOME_LEN - GENE_LEN, N_GENES)\n",
    "\n",
    "genes = pd.DataFrame({\"source_g\": source_g, \"start_i\": start_i})\n",
    "print(genes.head())"
   ]
  },
  {
   "cell_type": "code",
   "execution_count": 5,
   "metadata": {},
   "outputs": [],
   "source": [
    "CHOICES = {\n",
    "    'A': ['C', 'G', 'T'],\n",
    "    'C': ['A', 'G', 'T'],\n",
    "    'G': ['A', 'C', 'T'],\n",
    "    'T': ['A', 'C', 'G'],\n",
    "}\n",
    "\n",
    "def mutate(source_g, start_i, genomes):\n",
    "    gene = (genomes[source_g, start_i:start_i + GENE_LEN]).copy()\n",
    "    n_mutations = np.random.binomial(GENE_LEN, P_MUTATION)\n",
    "    mutation_indices = np.random.choice(GENE_LEN, n_mutations)\n",
    "    for i in mutation_indices:\n",
    "        gene[i] = np.random.choice(CHOICES[gene[i]])\n",
    "\n",
    "    mutations = GENE_LEN - (genomes[source_g, start_i:start_i + GENE_LEN] == gene).sum()\n",
    "    \n",
    "    return \"\".join(gene), mutations\n",
    "    # return gene, mutations"
   ]
  },
  {
   "cell_type": "code",
   "execution_count": 6,
   "metadata": {},
   "outputs": [],
   "source": [
    "genes[\"raw_mutation_result\"] = genes.apply(lambda row: mutate(row[0], row[1], genomes), axis=1)\n",
    "genes[\"full_text\"] = genes[\"raw_mutation_result\"].apply(lambda x: x[0])\n",
    "genes[\"n_mutations\"] = genes[\"raw_mutation_result\"].apply(lambda x: x[1])\n",
    "genes.drop(\"raw_mutation_result\", axis=1, inplace=True)\n",
    "\n",
    "# Now that we're done simulating genes, join genome as a string\n",
    "genomes = np.apply_along_axis(lambda row: \"\".join(row),1,genomes)"
   ]
  },
  {
   "cell_type": "code",
   "execution_count": 16,
   "metadata": {},
   "outputs": [],
   "source": [
    "genes.sort_values(\"source_g\", inplace=True)\n",
    "genes.to_csv(\"../data/genes_{}_{}_{}_{}_{}.csv\".format(N_GENOMES, GENOME_LEN, N_GENES, GENE_LEN, P_MUTATION))"
   ]
  },
  {
   "cell_type": "code",
   "execution_count": 8,
   "metadata": {},
   "outputs": [],
   "source": [
    "for i, genome in enumerate(genomes):\n",
    "    with open(\"../data/genome_{}_{}_{}_{}_{}_{}.txt\".format(N_GENOMES, GENOME_LEN, N_GENES, GENE_LEN, P_MUTATION, i), \"w\") as f:\n",
    "        f.write(genome)"
   ]
  },
  {
   "cell_type": "markdown",
   "metadata": {},
   "source": [
    "### Step 4: Evaluate\n",
    "How often does the longest common substring align with the gene's location?"
   ]
  },
  {
   "cell_type": "code",
   "execution_count": 9,
   "metadata": {},
   "outputs": [],
   "source": [
    "from difflib import SequenceMatcher"
   ]
  },
  {
   "cell_type": "code",
   "execution_count": 10,
   "metadata": {},
   "outputs": [
    {
     "data": {
      "text/plain": [
       "182538"
      ]
     },
     "execution_count": 10,
     "metadata": {},
     "output_type": "execute_result"
    }
   ],
   "source": [
    "# return predicted start index of gene in genome\n",
    "matcher = SequenceMatcher(autojunk=False)\n",
    "\n",
    "\n",
    "def predict_location(gene, source_g):\n",
    "    matcher.set_seqs(gene, genomes[source_g])\n",
    "    match = matcher.find_longest_match(0, GENE_LEN, 0, GENOME_LEN)\n",
    "    # print(f\"Length: {match.size}\\tgenome_i: {match.b}\\tgene_i: {match.a}\")\n",
    "    return match.b - match.a\n",
    "\n",
    "predict_location(genes.full_text[0], genes.source_g[0])"
   ]
  },
  {
   "cell_type": "code",
   "execution_count": 12,
   "metadata": {},
   "outputs": [],
   "source": [
    "predicted_location = genes.head(10).apply(lambda row: predict_location(row[\"full_text\"], row[\"source_g\"]), axis=1)"
   ]
  },
  {
   "cell_type": "code",
   "execution_count": 13,
   "metadata": {},
   "outputs": [
    {
     "data": {
      "text/plain": [
       "0    True\n",
       "1    True\n",
       "2    True\n",
       "3    True\n",
       "4    True\n",
       "5    True\n",
       "6    True\n",
       "7    True\n",
       "8    True\n",
       "9    True\n",
       "dtype: bool"
      ]
     },
     "execution_count": 13,
     "metadata": {},
     "output_type": "execute_result"
    }
   ],
   "source": [
    "predicted_location == genes.head(10).start_i"
   ]
  },
  {
   "cell_type": "code",
   "execution_count": 17,
   "metadata": {},
   "outputs": [
    {
     "data": {
      "text/plain": [
       "'CACGCAATGAGATGAGAGGTGTCTTCTCTGAAAGCACCGTTTAGAGTGGTGAGAATAAGTAGAGCTCACCGCGCAATGTTTGTCCACTAATTGGCTATAG'"
      ]
     },
     "execution_count": 17,
     "metadata": {},
     "output_type": "execute_result"
    }
   ],
   "source": [
    "genomes[2][:100]."
   ]
  }
 ],
 "metadata": {
  "kernelspec": {
   "display_name": "Python 3",
   "language": "python",
   "name": "python3"
  },
  "language_info": {
   "codemirror_mode": {
    "name": "ipython",
    "version": 3
   },
   "file_extension": ".py",
   "mimetype": "text/x-python",
   "name": "python",
   "nbconvert_exporter": "python",
   "pygments_lexer": "ipython3",
   "version": "3.6.0"
  }
 },
 "nbformat": 4,
 "nbformat_minor": 4
}

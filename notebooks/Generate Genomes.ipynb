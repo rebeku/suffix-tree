{
 "cells": [
  {
   "cell_type": "markdown",
   "metadata": {},
   "source": [
    "### Step 1: Set Parameters"
   ]
  },
  {
   "cell_type": "code",
   "execution_count": 1,
   "metadata": {},
   "outputs": [],
   "source": [
    "import numpy as np\n",
    "import pandas as pd"
   ]
  },
  {
   "cell_type": "code",
   "execution_count": 2,
   "metadata": {},
   "outputs": [],
   "source": [
    "N_GENOMES = 5 # How many different genomes do you want to use?\n",
    "GENOME_LEN = 100000 # How many base pairs will be in each genome?\n",
    "\n",
    "N_GENES = 5000 # How many genes to simulate\n",
    "GENE_LEN = 200 # How many characters in each gene?\n",
    "P_MUTATION = 0.1 # Probability of a mutation"
   ]
  },
  {
   "cell_type": "markdown",
   "metadata": {},
   "source": [
    "### Step 2: Simulate Genomes"
   ]
  },
  {
   "cell_type": "code",
   "execution_count": 3,
   "metadata": {},
   "outputs": [],
   "source": [
    "# For now, keep genomes as a string\n",
    "# This will make simulating the genes more convenient due to Numpy's indexing\n",
    "genomes = np.random.choice(['A', 'C', 'G', 'T'], (N_GENOMES,GENOME_LEN))"
   ]
  },
  {
   "cell_type": "markdown",
   "metadata": {},
   "source": [
    "### Step 3: Simulate Genes\n",
    "For each gene, save the text of the mutated gene, index of the source genome, the start index within the genome, and the number of mutations applied"
   ]
  },
  {
   "cell_type": "code",
   "execution_count": 4,
   "metadata": {},
   "outputs": [
    {
     "name": "stdout",
     "output_type": "stream",
     "text": [
      "   source_g  start_i\n",
      "0         1    63747\n",
      "1         4    46353\n",
      "2         2    61214\n",
      "3         4    28668\n",
      "4         0    16438\n"
     ]
    }
   ],
   "source": [
    "source_g = np.random.choice(N_GENOMES, N_GENES)\n",
    "start_i = np.random.choice(GENOME_LEN - GENE_LEN, N_GENES)\n",
    "\n",
    "genes = pd.DataFrame({\"source_g\": source_g, \"start_i\": start_i})\n",
    "print(genes.head())"
   ]
  },
  {
   "cell_type": "code",
   "execution_count": 5,
   "metadata": {},
   "outputs": [],
   "source": [
    "CHOICES = {\n",
    "    'A': ['C', 'G', 'T'],\n",
    "    'C': ['A', 'G', 'T'],\n",
    "    'G': ['A', 'C', 'T'],\n",
    "    'T': ['A', 'C', 'G'],\n",
    "}\n",
    "\n",
    "def mutate(source_g, start_i, genomes):\n",
    "    gene = (genomes[source_g, start_i:start_i + GENE_LEN]).copy()\n",
    "    n_mutations = np.random.binomial(GENE_LEN, P_MUTATION)\n",
    "    mutation_indices = np.random.choice(GENE_LEN, n_mutations)\n",
    "    for i in mutation_indices:\n",
    "        gene[i] = np.random.choice(CHOICES[gene[i]])\n",
    "\n",
    "    mutations = GENE_LEN - (genomes[source_g, start_i:start_i + GENE_LEN] == gene).sum()\n",
    "    \n",
    "    return \"\".join(gene), mutations\n",
    "    # return gene, mutations"
   ]
  },
  {
   "cell_type": "code",
   "execution_count": 6,
   "metadata": {},
   "outputs": [],
   "source": [
    "genes[\"raw_mutation_result\"] = genes.apply(lambda row: mutate(row[0], row[1], genomes), axis=1)\n",
    "genes[\"full_text\"] = genes[\"raw_mutation_result\"].apply(lambda x: x[0])\n",
    "genes[\"n_mutations\"] = genes[\"raw_mutation_result\"].apply(lambda x: x[1])\n",
    "genes.drop(\"raw_mutation_result\", axis=1, inplace=True)\n",
    "\n",
    "# Now that we're done simulating genes, join genome as a string\n",
    "genomes = np.apply_along_axis(lambda row: \"\".join(row),1,genomes)"
   ]
  },
  {
   "cell_type": "code",
   "execution_count": 7,
   "metadata": {},
   "outputs": [],
   "source": [
    "for i, genome in enumerate(genomes):\n",
    "    fname = \"../data/genome_{}_{}_{}_{}_{}_{}.txt\".format(N_GENOMES, GENOME_LEN, N_GENES, GENE_LEN, P_MUTATION, i)\n",
    "    with open(fname, \"w\") as f:\n",
    "        f.write(genome)\n",
    "    genes.source_g.replace(i, fname, inplace=True)"
   ]
  },
  {
   "cell_type": "code",
   "execution_count": 8,
   "metadata": {},
   "outputs": [
    {
     "name": "stdout",
     "output_type": "stream",
     "text": [
      "Saved to test data to ../data/genes_5_100000_5000_200_0.1.csv\n"
     ]
    }
   ],
   "source": [
    "fname = \"../data/genes_{}_{}_{}_{}_{}.csv\".format(N_GENOMES, GENOME_LEN, N_GENES, GENE_LEN, P_MUTATION)\n",
    "genes.sort_values(\"source_g\", inplace=True)\n",
    "genes.to_csv(fname, index=False, header=False)\n",
    "\n",
    "print(\"Saved to test data to {}\".format(fname))"
   ]
  },
  {
   "cell_type": "code",
   "execution_count": 9,
   "metadata": {},
   "outputs": [
    {
     "data": {
      "text/html": [
       "<div>\n",
       "<style>\n",
       "    .dataframe thead tr:only-child th {\n",
       "        text-align: right;\n",
       "    }\n",
       "\n",
       "    .dataframe thead th {\n",
       "        text-align: left;\n",
       "    }\n",
       "\n",
       "    .dataframe tbody tr th {\n",
       "        vertical-align: top;\n",
       "    }\n",
       "</style>\n",
       "<table border=\"1\" class=\"dataframe\">\n",
       "  <thead>\n",
       "    <tr style=\"text-align: right;\">\n",
       "      <th></th>\n",
       "      <th>source_g</th>\n",
       "      <th>start_i</th>\n",
       "      <th>full_text</th>\n",
       "      <th>n_mutations</th>\n",
       "    </tr>\n",
       "  </thead>\n",
       "  <tbody>\n",
       "    <tr>\n",
       "      <th>2499</th>\n",
       "      <td>../data/genome_5_100000_5000_200_0.1_0.txt</td>\n",
       "      <td>30330</td>\n",
       "      <td>GATACTGGCTAACCAAAACCTTATAAAAGGCACGCCATTAGATGAC...</td>\n",
       "      <td>21</td>\n",
       "    </tr>\n",
       "    <tr>\n",
       "      <th>3029</th>\n",
       "      <td>../data/genome_5_100000_5000_200_0.1_0.txt</td>\n",
       "      <td>26534</td>\n",
       "      <td>GTTGCGGGGATGACAACAGGATGAGTACTGTATCTGCCGCGGGTAT...</td>\n",
       "      <td>21</td>\n",
       "    </tr>\n",
       "    <tr>\n",
       "      <th>3036</th>\n",
       "      <td>../data/genome_5_100000_5000_200_0.1_0.txt</td>\n",
       "      <td>61349</td>\n",
       "      <td>CGTGGCTTCCTGCAGACAACACTGTCATCGAGGGTTACAGATGAAC...</td>\n",
       "      <td>19</td>\n",
       "    </tr>\n",
       "    <tr>\n",
       "      <th>3043</th>\n",
       "      <td>../data/genome_5_100000_5000_200_0.1_0.txt</td>\n",
       "      <td>18499</td>\n",
       "      <td>TATCCATCACAGTAACTCGGTTATACAGGATTCTTCGCTCGGCTCC...</td>\n",
       "      <td>18</td>\n",
       "    </tr>\n",
       "    <tr>\n",
       "      <th>3048</th>\n",
       "      <td>../data/genome_5_100000_5000_200_0.1_0.txt</td>\n",
       "      <td>97006</td>\n",
       "      <td>CGGCGTGTTAACACGCTGCACCAGCCCGATCTACATGCTCACCTAT...</td>\n",
       "      <td>15</td>\n",
       "    </tr>\n",
       "  </tbody>\n",
       "</table>\n",
       "</div>"
      ],
      "text/plain": [
       "                                        source_g  start_i  \\\n",
       "2499  ../data/genome_5_100000_5000_200_0.1_0.txt    30330   \n",
       "3029  ../data/genome_5_100000_5000_200_0.1_0.txt    26534   \n",
       "3036  ../data/genome_5_100000_5000_200_0.1_0.txt    61349   \n",
       "3043  ../data/genome_5_100000_5000_200_0.1_0.txt    18499   \n",
       "3048  ../data/genome_5_100000_5000_200_0.1_0.txt    97006   \n",
       "\n",
       "                                              full_text  n_mutations  \n",
       "2499  GATACTGGCTAACCAAAACCTTATAAAAGGCACGCCATTAGATGAC...           21  \n",
       "3029  GTTGCGGGGATGACAACAGGATGAGTACTGTATCTGCCGCGGGTAT...           21  \n",
       "3036  CGTGGCTTCCTGCAGACAACACTGTCATCGAGGGTTACAGATGAAC...           19  \n",
       "3043  TATCCATCACAGTAACTCGGTTATACAGGATTCTTCGCTCGGCTCC...           18  \n",
       "3048  CGGCGTGTTAACACGCTGCACCAGCCCGATCTACATGCTCACCTAT...           15  "
      ]
     },
     "execution_count": 9,
     "metadata": {},
     "output_type": "execute_result"
    }
   ],
   "source": [
    "genes.head()"
   ]
  },
  {
   "cell_type": "markdown",
   "metadata": {},
   "source": [
    "### Step 4: Evaluate\n",
    "How often does the longest common substring align with the gene's location?"
   ]
  },
  {
   "cell_type": "code",
   "execution_count": 10,
   "metadata": {},
   "outputs": [],
   "source": [
    "from difflib import SequenceMatcher"
   ]
  },
  {
   "cell_type": "code",
   "execution_count": 11,
   "metadata": {},
   "outputs": [
    {
     "data": {
      "text/plain": [
       "63747"
      ]
     },
     "execution_count": 11,
     "metadata": {},
     "output_type": "execute_result"
    }
   ],
   "source": [
    "# return predicted start index of gene in genome\n",
    "matcher = SequenceMatcher(autojunk=False)\n",
    "\n",
    "\n",
    "def predict_location(gene, source_g):\n",
    "    matcher.set_seqs(gene, genomes[int(source_g[-5:-4])])\n",
    "    match = matcher.find_longest_match(0, GENE_LEN, 0, GENOME_LEN)\n",
    "    return match.b - match.a\n",
    "\n",
    "predict_location(genes.full_text[0], genes.source_g[0])"
   ]
  },
  {
   "cell_type": "code",
   "execution_count": 12,
   "metadata": {},
   "outputs": [
    {
     "name": "stdout",
     "output_type": "stream",
     "text": [
      "Calculated accuracy rate for 100 genes in 182.719385 seconds\n"
     ]
    },
    {
     "data": {
      "text/plain": [
       "True    100\n",
       "dtype: int64"
      ]
     },
     "execution_count": 12,
     "metadata": {},
     "output_type": "execute_result"
    }
   ],
   "source": [
    "from datetime import datetime\n",
    "\n",
    "start = datetime.now()\n",
    "predicted_location = genes.head(100).apply(lambda row: predict_location(row[\"full_text\"], row[\"source_g\"]), axis=1)\n",
    "done = datetime.now()\n",
    "\n",
    "print(\"Calculated accuracy rate for 100 genes in {} seconds\".format((done - start).total_seconds()))\n",
    "(predicted_location == genes.head(100).start_i).value_counts()"
   ]
  },
  {
   "cell_type": "code",
   "execution_count": null,
   "metadata": {},
   "outputs": [],
   "source": []
  },
  {
   "cell_type": "code",
   "execution_count": null,
   "metadata": {},
   "outputs": [],
   "source": []
  }
 ],
 "metadata": {
  "kernelspec": {
   "display_name": "Python 3",
   "language": "python",
   "name": "python3"
  },
  "language_info": {
   "codemirror_mode": {
    "name": "ipython",
    "version": 3
   },
   "file_extension": ".py",
   "mimetype": "text/x-python",
   "name": "python",
   "nbconvert_exporter": "python",
   "pygments_lexer": "ipython3",
   "version": "3.6.0"
  }
 },
 "nbformat": 4,
 "nbformat_minor": 4
}
